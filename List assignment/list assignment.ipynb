{
 "cells": [
  {
   "cell_type": "code",
   "execution_count": 1,
   "id": "224023c1-141f-4aec-a364-1f7e83b12bad",
   "metadata": {},
   "outputs": [
    {
     "name": "stdout",
     "output_type": "stream",
     "text": [
      "['bee', 'cat', 'dog', 'dolphin', 'elephant', 'fish', 'zebra']\n",
      "['zebra', 'fish', 'elephant', 'dolphin', 'dog', 'cat', 'bee']\n"
     ]
    }
   ],
   "source": [
    "list = ['dog','cat', 'elephant', 'zebra', 'bee', 'fish', 'dolphin']\n",
    "for i in range(0,len(list)):\n",
    "    for j in range(0,len(list)):\n",
    "        if (list[j] > list[i]):\n",
    "            temp= list[i]\n",
    "            list[i]= list[j]\n",
    "            list[j]= temp\n",
    "    \n",
    "print(list)\n",
    "\n",
    "for i in range(0,len(list)):\n",
    "    for j in range(0,len(list)):\n",
    "        if (list[j] < list[i]):\n",
    "            temp= list[i]\n",
    "            list[i]= list[j]\n",
    "            list[j]= temp\n",
    "    \n",
    "print(list)"
   ]
  },
  {
   "cell_type": "code",
   "execution_count": null,
   "id": "55e828c6-22d6-4c71-a681-d9bdfa1165b5",
   "metadata": {},
   "outputs": [],
   "source": []
  }
 ],
 "metadata": {
  "kernelspec": {
   "display_name": "Python 3 (ipykernel)",
   "language": "python",
   "name": "python3"
  },
  "language_info": {
   "codemirror_mode": {
    "name": "ipython",
    "version": 3
   },
   "file_extension": ".py",
   "mimetype": "text/x-python",
   "name": "python",
   "nbconvert_exporter": "python",
   "pygments_lexer": "ipython3",
   "version": "3.11.0"
  }
 },
 "nbformat": 4,
 "nbformat_minor": 5
}
